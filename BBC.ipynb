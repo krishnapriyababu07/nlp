{
  "nbformat": 4,
  "nbformat_minor": 0,
  "metadata": {
    "colab": {
      "provenance": [],
      "authorship_tag": "ABX9TyP9WcCFdbupSmYdF1d35ZxS",
      "include_colab_link": true
    },
    "kernelspec": {
      "name": "python3",
      "display_name": "Python 3"
    },
    "language_info": {
      "name": "python"
    }
  },
  "cells": [
    {
      "cell_type": "markdown",
      "metadata": {
        "id": "view-in-github",
        "colab_type": "text"
      },
      "source": [
        "<a href=\"https://colab.research.google.com/github/krishnapriyababu07/nlp/blob/main/BBC.ipynb\" target=\"_parent\"><img src=\"https://colab.research.google.com/assets/colab-badge.svg\" alt=\"Open In Colab\"/></a>"
      ]
    },
    {
      "cell_type": "code",
      "source": [
        "import requests\n",
        "\n",
        "def fetch_news_article(api_key):\n",
        "    url = ('https://newsapi.org/v2/top-headlines?'\n",
        "           'country=us&'\n",
        "           'apiKey={}'.format(api_key))\n",
        "    response = requests.get(url)\n",
        "    data = response.json()\n",
        "    if data['status'] == 'ok':\n",
        "        # Take the first article for simplicity\n",
        "        article = data['articles'][0]\n",
        "        title = article['title']\n",
        "        content = article['content']\n",
        "        return title, content\n",
        "    else:\n",
        "        raise Exception('Failed to fetch news articles')\n",
        "\n",
        "api_key = 'f29e3591bd0f4a6f815d0a110131649a'\n",
        "title, content = fetch_news_article(api_key)\n",
        "print(\"Title:\", title)\n",
        "print(\"Content:\", content)\n"
      ],
      "metadata": {
        "colab": {
          "base_uri": "https://localhost:8080/"
        },
        "id": "B6MsahemNJmD",
        "outputId": "d2c3cda9-5eec-4189-c344-ca63b0665cf3"
      },
      "execution_count": 42,
      "outputs": [
        {
          "output_type": "stream",
          "name": "stdout",
          "text": [
            "Title: Perspective | Gross and embarrassing — teen girls’ misconceptions about their periods - The Washington Post\n",
            "Content: When a 15-year-old girl I see in psychotherapy ended up in the ER with second-degree burns, she was embarrassed to tell me why. Eventually she disclosed having crouched over boiling herb-infused wate… [+132 chars]\n"
          ]
        }
      ]
    },
    {
      "cell_type": "code",
      "source": [
        "import nltk\n",
        "from nltk.tokenize import word_tokenize\n",
        "from nltk.tag import pos_tag\n",
        "from nltk.chunk import ne_chunk\n",
        "\n",
        "nltk.download('punkt')\n",
        "nltk.download('maxent_ne_chunker')\n",
        "nltk.download('words')\n",
        "\n",
        "def extract_entities_nltk(text):\n",
        "    tokens = word_tokenize(text)\n",
        "    pos_tags = pos_tag(tokens)\n",
        "    tree = ne_chunk(pos_tags, binary=False)\n",
        "    named_entities = []\n",
        "\n",
        "    for subtree in tree:\n",
        "        if isinstance(subtree, nltk.Tree):\n",
        "            entity_name = \" \".join([word for word, pos in subtree.leaves()])\n",
        "            entity_type = subtree.label()\n",
        "            named_entities.append((entity_name, entity_type))\n",
        "\n",
        "    return named_entities\n",
        "\n",
        "entities_nltk = extract_entities_nltk(content)\n",
        "print(\"Entities extracted by NLTK:\")\n",
        "for entity in entities_nltk:\n",
        "    print(entity)\n"
      ],
      "metadata": {
        "colab": {
          "base_uri": "https://localhost:8080/"
        },
        "id": "hRKdSpqTNZHj",
        "outputId": "dc4fa366-b931-4870-c010-e9f1a1c5d628"
      },
      "execution_count": 43,
      "outputs": [
        {
          "output_type": "stream",
          "name": "stderr",
          "text": [
            "[nltk_data] Downloading package punkt to /root/nltk_data...\n",
            "[nltk_data]   Package punkt is already up-to-date!\n",
            "[nltk_data] Downloading package maxent_ne_chunker to\n",
            "[nltk_data]     /root/nltk_data...\n",
            "[nltk_data]   Unzipping chunkers/maxent_ne_chunker.zip.\n",
            "[nltk_data] Downloading package words to /root/nltk_data...\n",
            "[nltk_data]   Unzipping corpora/words.zip.\n"
          ]
        },
        {
          "output_type": "stream",
          "name": "stdout",
          "text": [
            "Entities extracted by NLTK:\n",
            "('ER', 'ORGANIZATION')\n"
          ]
        }
      ]
    },
    {
      "cell_type": "code",
      "source": [
        "import spacy\n",
        "\n",
        "# Load the spaCy model\n",
        "nlp = spacy.load(\"en_core_web_sm\")\n",
        "\n",
        "def extract_entities_spacy(text):\n",
        "    doc = nlp(text)\n",
        "    named_entities = [(ent.text, ent.label_) for ent in doc.ents]\n",
        "    return named_entities\n",
        "\n",
        "entities_spacy = extract_entities_spacy(content)\n",
        "print(\"Entities extracted by spaCy:\")\n",
        "for entity in entities_spacy:\n",
        "    print(entity)\n"
      ],
      "metadata": {
        "colab": {
          "base_uri": "https://localhost:8080/"
        },
        "id": "1bi01QM1Nd8r",
        "outputId": "a755e7dd-3eec-4995-c558-0c5194337877"
      },
      "execution_count": 44,
      "outputs": [
        {
          "output_type": "stream",
          "name": "stdout",
          "text": [
            "Entities extracted by spaCy:\n",
            "('15-year-old', 'DATE')\n",
            "('ER', 'ORG')\n",
            "('second', 'ORDINAL')\n"
          ]
        }
      ]
    },
    {
      "cell_type": "code",
      "source": [
        "def compare_entities(nltk_entities, spacy_entities):\n",
        "    nltk_set = set(nltk_entities)\n",
        "    spacy_set = set(spacy_entities)\n",
        "\n",
        "    print(\"\\nEntities found by both NLTK and spaCy:\")\n",
        "    for entity in nltk_set & spacy_set:\n",
        "        print(entity)\n",
        "\n",
        "    print(\"\\nEntities found only by NLTK:\")\n",
        "    for entity in nltk_set - spacy_set:\n",
        "        print(entity)\n",
        "\n",
        "    print(\"\\nEntities found only by spaCy:\")\n",
        "    for entity in spacy_set - nltk_set:\n",
        "        print(entity)\n",
        "\n",
        "compare_entities(entities_nltk, entities_spacy)\n"
      ],
      "metadata": {
        "colab": {
          "base_uri": "https://localhost:8080/"
        },
        "id": "TT7H-QRENhHL",
        "outputId": "6419ae54-9ce7-4d58-e8ce-3ef980ff54a4"
      },
      "execution_count": 45,
      "outputs": [
        {
          "output_type": "stream",
          "name": "stdout",
          "text": [
            "\n",
            "Entities found by both NLTK and spaCy:\n",
            "\n",
            "Entities found only by NLTK:\n",
            "('ER', 'ORGANIZATION')\n",
            "\n",
            "Entities found only by spaCy:\n",
            "('second', 'ORDINAL')\n",
            "('15-year-old', 'DATE')\n",
            "('ER', 'ORG')\n"
          ]
        }
      ]
    }
  ]
}